{
 "metadata": {
  "language_info": {
   "codemirror_mode": {
    "name": "ipython",
    "version": 3
   },
   "file_extension": ".py",
   "mimetype": "text/x-python",
   "name": "python",
   "nbconvert_exporter": "python",
   "pygments_lexer": "ipython3",
   "version": "3.7.9"
  },
  "orig_nbformat": 2,
  "kernelspec": {
   "name": "python379jvsc74a57bd0bd230f86950030d0145785e8ad3e4440ba8f9dbe936dc92717eba51f4029bf4b",
   "display_name": "Python 3.7.9 64-bit ('PythonData': conda)"
  }
 },
 "nbformat": 4,
 "nbformat_minor": 2,
 "cells": [
  {
   "cell_type": "code",
   "execution_count": 1,
   "metadata": {},
   "outputs": [
    {
     "output_type": "stream",
     "name": "stdout",
     "text": [
      "Collecting citipy\n  Downloading citipy-0.0.5.tar.gz (557 kB)\nCollecting kdtree>=0.12\n  Downloading kdtree-0.16-py2.py3-none-any.whl (7.7 kB)\nBuilding wheels for collected packages: citipy\n  Building wheel for citipy (setup.py): started\n  Building wheel for citipy (setup.py): finished with status 'done'\n  Created wheel for citipy: filename=citipy-0.0.5-py3-none-any.whl size=559704 sha256=9ace3d82669199957d674a758a730aec4412aa13da957452b1d1e7195d183357\n  Stored in directory: c:\\users\\tracy\\appdata\\local\\pip\\cache\\wheels\\72\\ae\\63\\5d03cf6dfe5c0e9328fb73f8b30da1948a06b9cceaf2c68d2d\nSuccessfully built citipy\nInstalling collected packages: kdtree, citipy\nSuccessfully installed citipy-0.0.5 kdtree-0.16\nNote: you may need to restart the kernel to use updated packages.\n"
     ]
    }
   ],
   "source": [
    "pip install citipy"
   ]
  },
  {
   "cell_type": "code",
   "execution_count": null,
   "metadata": {},
   "outputs": [],
   "source": []
  }
 ]
}