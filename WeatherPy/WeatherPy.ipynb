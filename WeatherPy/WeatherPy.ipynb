{
 "cells": [
  {
   "cell_type": "markdown",
   "metadata": {},
   "source": [
    "# WeatherPy\n",
    "----\n",
    "\n",
    "#### Note\n",
    "* Instructions have been included for each segment. You do not have to follow them exactly, but they are included to help you think through the steps."
   ]
  },
  {
   "cell_type": "code",
   "execution_count": 1,
   "metadata": {
    "scrolled": true
   },
   "outputs": [],
   "source": [
    "# Dependencies and Setup\n",
    "import matplotlib.pyplot as plt\n",
    "import pandas as pd\n",
    "import numpy as np\n",
    "import requests\n",
    "import time\n",
    "from scipy.stats import linregress\n",
    "\n",
    "# Import API key\n",
    "from api_keys import weather_api_key\n",
    "\n",
    "# Incorporated citipy to determine city based on latitude and longitude\n",
    "from citipy import citipy\n",
    "\n",
    "# Output File (CSV)\n",
    "output_data_file = \"output_data/cities.csv\"\n",
    "\n",
    "# Range of latitudes and longitudes\n",
    "lat_range = (-90, 90)\n",
    "lng_range = (-180, 180)"
   ]
  },
  {
   "cell_type": "markdown",
   "metadata": {},
   "source": [
    "## Generate Cities List"
   ]
  },
  {
   "cell_type": "code",
   "execution_count": 2,
   "metadata": {},
   "outputs": [
    {
     "output_type": "stream",
     "name": "stdout",
     "text": [
      "628\n"
     ]
    }
   ],
   "source": [
    "# List for holding lat_lngs and cities\n",
    "lat_lngs = []\n",
    "cities = []\n",
    "\n",
    "# Create a set of random lat and lng combinations\n",
    "lats = np.random.uniform(lat_range[0], lat_range[1], size=1500)\n",
    "lngs = np.random.uniform(lng_range[0], lng_range[1], size=1500)\n",
    "lat_lngs = zip(lats, lngs)\n",
    "\n",
    "# Identify nearest city for each lat, lng combination\n",
    "for lat_lng in lat_lngs:\n",
    "    city = citipy.nearest_city(lat_lng[0], lat_lng[1]).city_name\n",
    "    \n",
    "    # If the city is unique, then add it to a our cities list\n",
    "    if city not in cities:\n",
    "        cities.append(city)\n",
    "\n",
    "# Print the city count to confirm sufficient count\n",
    "print(len(cities))"
   ]
  },
  {
   "cell_type": "markdown",
   "metadata": {},
   "source": [
    "### Perform API Calls\n",
    "* Perform a weather check on each city using a series of successive API calls.\n",
    "* Include a print log of each city as it'sbeing processed (with the city number and city name).\n"
   ]
  },
  {
   "cell_type": "code",
   "execution_count": 22,
   "metadata": {
    "scrolled": true,
    "tags": [
     "outputPrepend"
    ]
   },
   "outputs": [
    {
     "output_type": "stream",
     "name": "stdout",
     "text": [
      "rn #238 out of 628 is found and added to the list\n",
      "aquiraz #239 out of 628 is found and added to the list\n",
      "terrace bay #240 out of 628 is found and added to the list\n",
      "sorong #241 out of 628 is found and added to the list\n",
      "necochea #242 out of 628 is found and added to the list\n",
      "masterton #243 out of 628 is found and added to the list\n",
      "boende #244 out of 628 is found and added to the list\n",
      "ribeira grande #245 out of 628 is found and added to the list\n",
      "victoria #246 out of 628 is found and added to the list\n",
      "sulphur springs #247 out of 628 is found and added to the list\n",
      "listvyanskiy #248 out of 628 is found and added to the list\n",
      "chuy #249 out of 628 is found and added to the list\n",
      "vestmanna #250 out of 628 is found and added to the list\n",
      "saltabarranca #251 out of 628 is found and added to the list\n",
      "colac #252 out of 628 is found and added to the list\n",
      "pyapon #253 out of 628 is found and added to the list\n",
      "nome #254 out of 628 is found and added to the list\n",
      "la ronge #255 out of 628 is found and added to the list\n",
      "qaanaaq #256 out of 628 is found and added to the list\n",
      "bur gabo record #256 is unknown and skipped.\n",
      "elat #257 out of 628 is found and added to the list\n",
      "zyryanka #258 out of 628 is found and added to the list\n",
      "ayia marina #259 out of 628 is found and added to the list\n",
      "zhigansk #260 out of 628 is found and added to the list\n",
      "harper #261 out of 628 is found and added to the list\n",
      "honiara #262 out of 628 is found and added to the list\n",
      "shache #263 out of 628 is found and added to the list\n",
      "cosala #264 out of 628 is found and added to the list\n",
      "salvador #265 out of 628 is found and added to the list\n",
      "ipixuna #266 out of 628 is found and added to the list\n",
      "canberra #267 out of 628 is found and added to the list\n",
      "bodden town #268 out of 628 is found and added to the list\n",
      "unity #269 out of 628 is found and added to the list\n",
      "port hueneme #270 out of 628 is found and added to the list\n",
      "kavieng #271 out of 628 is found and added to the list\n",
      "trairi #272 out of 628 is found and added to the list\n",
      "alice springs #273 out of 628 is found and added to the list\n",
      "codrington #274 out of 628 is found and added to the list\n",
      "mayumba #275 out of 628 is found and added to the list\n",
      "peleduy #276 out of 628 is found and added to the list\n",
      "kutum #277 out of 628 is found and added to the list\n",
      "prestea #278 out of 628 is found and added to the list\n",
      "tautira #279 out of 628 is found and added to the list\n",
      "jahrom record #279 is unknown and skipped.\n",
      "lokosovo #280 out of 628 is found and added to the list\n",
      "miahuatlan #281 out of 628 is found and added to the list\n",
      "the pas #282 out of 628 is found and added to the list\n",
      "assiniboia #283 out of 628 is found and added to the list\n",
      "meyungs record #283 is unknown and skipped.\n",
      "hirara #284 out of 628 is found and added to the list\n",
      "seoul #285 out of 628 is found and added to the list\n",
      "parrita #286 out of 628 is found and added to the list\n",
      "karasjok #287 out of 628 is found and added to the list\n",
      "port-gentil #288 out of 628 is found and added to the list\n",
      "dolny kubin #289 out of 628 is found and added to the list\n",
      "tahe #290 out of 628 is found and added to the list\n",
      "caohai #291 out of 628 is found and added to the list\n",
      "kloulklubed #292 out of 628 is found and added to the list\n",
      "talant #293 out of 628 is found and added to the list\n",
      "karratha #294 out of 628 is found and added to the list\n",
      "kiraoli #295 out of 628 is found and added to the list\n",
      "gambela #296 out of 628 is found and added to the list\n",
      "sunyani #297 out of 628 is found and added to the list\n",
      "te anau #298 out of 628 is found and added to the list\n",
      "mount isa #299 out of 628 is found and added to the list\n",
      "bandar-e torkaman record #299 is unknown and skipped.\n",
      "manggar #300 out of 628 is found and added to the list\n",
      "atambua #301 out of 628 is found and added to the list\n",
      "acarau #302 out of 628 is found and added to the list\n",
      "temaraia record #302 is unknown and skipped.\n",
      "helmsdale #303 out of 628 is found and added to the list\n",
      "sovetskiy #304 out of 628 is found and added to the list\n",
      "iquitos #305 out of 628 is found and added to the list\n",
      "preobrazheniye #306 out of 628 is found and added to the list\n",
      "moree #307 out of 628 is found and added to the list\n",
      "dayong #308 out of 628 is found and added to the list\n",
      "skjervoy #309 out of 628 is found and added to the list\n",
      "soyo #310 out of 628 is found and added to the list\n",
      "kirkwall #311 out of 628 is found and added to the list\n",
      "araguaina #312 out of 628 is found and added to the list\n",
      "klaksvik #313 out of 628 is found and added to the list\n",
      "moa #314 out of 628 is found and added to the list\n",
      "flin flon #315 out of 628 is found and added to the list\n",
      "taoudenni #316 out of 628 is found and added to the list\n",
      "beringovskiy #317 out of 628 is found and added to the list\n",
      "anadyr #318 out of 628 is found and added to the list\n",
      "anupshahr #319 out of 628 is found and added to the list\n",
      "north bend #320 out of 628 is found and added to the list\n",
      "togur #321 out of 628 is found and added to the list\n",
      "novyy urengoy #322 out of 628 is found and added to the list\n",
      "college #323 out of 628 is found and added to the list\n",
      "tessalit #324 out of 628 is found and added to the list\n",
      "bahia honda #325 out of 628 is found and added to the list\n",
      "bystryy istok #326 out of 628 is found and added to the list\n",
      "san vicente #327 out of 628 is found and added to the list\n",
      "tutoia #328 out of 628 is found and added to the list\n",
      "ringebu #329 out of 628 is found and added to the list\n",
      "leeuwarden #330 out of 628 is found and added to the list\n",
      "saleaula record #330 is unknown and skipped.\n",
      "najran #331 out of 628 is found and added to the list\n",
      "portland #332 out of 628 is found and added to the list\n",
      "amapa #333 out of 628 is found and added to the list\n",
      "san francisco #334 out of 628 is found and added to the list\n",
      "shimoda #335 out of 628 is found and added to the list\n",
      "katsuura #336 out of 628 is found and added to the list\n",
      "naryan-mar #337 out of 628 is found and added to the list\n",
      "bose #338 out of 628 is found and added to the list\n",
      "nyurba #339 out of 628 is found and added to the list\n",
      "inderborskiy record #339 is unknown and skipped.\n",
      "antofagasta #340 out of 628 is found and added to the list\n",
      "balkanabat #341 out of 628 is found and added to the list\n",
      "auki #342 out of 628 is found and added to the list\n",
      "grand forks #343 out of 628 is found and added to the list\n",
      "svetlogorsk #344 out of 628 is found and added to the list\n",
      "upernavik #345 out of 628 is found and added to the list\n",
      "hovd #346 out of 628 is found and added to the list\n",
      "bethel #347 out of 628 is found and added to the list\n",
      "byron bay #348 out of 628 is found and added to the list\n",
      "blonduos record #348 is unknown and skipped.\n",
      "mount gambier #349 out of 628 is found and added to the list\n",
      "karatsu #350 out of 628 is found and added to the list\n",
      "puerto baquerizo moreno #351 out of 628 is found and added to the list\n",
      "coquimbo #352 out of 628 is found and added to the list\n",
      "srandakan #353 out of 628 is found and added to the list\n",
      "atar #354 out of 628 is found and added to the list\n",
      "presidencia roque saenz pena #355 out of 628 is found and added to the list\n",
      "impfondo #356 out of 628 is found and added to the list\n",
      "tumannyy record #356 is unknown and skipped.\n",
      "faanui #357 out of 628 is found and added to the list\n",
      "patitirion #358 out of 628 is found and added to the list\n",
      "yagodnoye #359 out of 628 is found and added to the list\n",
      "constitucion #360 out of 628 is found and added to the list\n",
      "aklavik #361 out of 628 is found and added to the list\n",
      "alappuzha #362 out of 628 is found and added to the list\n",
      "airai #363 out of 628 is found and added to the list\n",
      "asau #364 out of 628 is found and added to the list\n",
      "sitka #365 out of 628 is found and added to the list\n",
      "fougamou #366 out of 628 is found and added to the list\n",
      "birao #367 out of 628 is found and added to the list\n",
      "mananjary #368 out of 628 is found and added to the list\n",
      "vidim #369 out of 628 is found and added to the list\n",
      "canita #370 out of 628 is found and added to the list\n",
      "goksun #371 out of 628 is found and added to the list\n",
      "tabiauea record #371 is unknown and skipped.\n",
      "palabuhanratu record #371 is unknown and skipped.\n",
      "teya #372 out of 628 is found and added to the list\n",
      "salalah #373 out of 628 is found and added to the list\n",
      "fare #374 out of 628 is found and added to the list\n",
      "sundargarh #375 out of 628 is found and added to the list\n",
      "vao #376 out of 628 is found and added to the list\n",
      "tsienyane record #376 is unknown and skipped.\n",
      "zabol #377 out of 628 is found and added to the list\n",
      "hofn #378 out of 628 is found and added to the list\n",
      "camacha #379 out of 628 is found and added to the list\n",
      "bartlesville #380 out of 628 is found and added to the list\n",
      "mitzic #381 out of 628 is found and added to the list\n",
      "barsovo #382 out of 628 is found and added to the list\n",
      "teguldet #383 out of 628 is found and added to the list\n",
      "ponta do sol #384 out of 628 is found and added to the list\n",
      "arapongas #385 out of 628 is found and added to the list\n",
      "iralaya #386 out of 628 is found and added to the list\n",
      "ornskoldsvik #387 out of 628 is found and added to the list\n",
      "nakamura #388 out of 628 is found and added to the list\n",
      "komsomolskiy #389 out of 628 is found and added to the list\n",
      "briancon #390 out of 628 is found and added to the list\n",
      "isangel #391 out of 628 is found and added to the list\n",
      "port macquarie #392 out of 628 is found and added to the list\n",
      "ghamarwin record #392 is unknown and skipped.\n",
      "shubarshi #393 out of 628 is found and added to the list\n",
      "coahuayana #394 out of 628 is found and added to the list\n",
      "arys #395 out of 628 is found and added to the list\n",
      "kupang #396 out of 628 is found and added to the list\n",
      "tsihombe record #396 is unknown and skipped.\n",
      "bardiyah #397 out of 628 is found and added to the list\n",
      "nantucket #398 out of 628 is found and added to the list\n",
      "akdepe #399 out of 628 is found and added to the list\n",
      "turayf #400 out of 628 is found and added to the list\n",
      "mnogovershinnyy #401 out of 628 is found and added to the list\n",
      "zhangye #402 out of 628 is found and added to the list\n",
      "sabha #403 out of 628 is found and added to the list\n",
      "ahipara #404 out of 628 is found and added to the list\n",
      "tocopilla #405 out of 628 is found and added to the list\n",
      "moroni #406 out of 628 is found and added to the list\n",
      "solnechnyy #407 out of 628 is found and added to the list\n",
      "champerico #408 out of 628 is found and added to the list\n",
      "morondava #409 out of 628 is found and added to the list\n",
      "abalak #410 out of 628 is found and added to the list\n",
      "chadiza #411 out of 628 is found and added to the list\n",
      "sekondi #412 out of 628 is found and added to the list\n",
      "rocha #413 out of 628 is found and added to the list\n",
      "yenagoa #414 out of 628 is found and added to the list\n",
      "fortuna #415 out of 628 is found and added to the list\n",
      "minot #416 out of 628 is found and added to the list\n",
      "carlyle #417 out of 628 is found and added to the list\n",
      "guerrero negro #418 out of 628 is found and added to the list\n",
      "bhachau #419 out of 628 is found and added to the list\n",
      "quesnel #420 out of 628 is found and added to the list\n",
      "alugan #421 out of 628 is found and added to the list\n",
      "comodoro rivadavia #422 out of 628 is found and added to the list\n",
      "mao #423 out of 628 is found and added to the list\n",
      "sao pedro #424 out of 628 is found and added to the list\n",
      "moerai #425 out of 628 is found and added to the list\n",
      "torata #426 out of 628 is found and added to the list\n",
      "hobyo #427 out of 628 is found and added to the list\n",
      "yola #428 out of 628 is found and added to the list\n",
      "chitral #429 out of 628 is found and added to the list\n",
      "umea #430 out of 628 is found and added to the list\n",
      "steamboat springs #431 out of 628 is found and added to the list\n",
      "sabzevar #432 out of 628 is found and added to the list\n",
      "fairbanks #433 out of 628 is found and added to the list\n",
      "bereda #434 out of 628 is found and added to the list\n",
      "kudahuvadhoo #435 out of 628 is found and added to the list\n",
      "socorro #436 out of 628 is found and added to the list\n",
      "yangambi #437 out of 628 is found and added to the list\n",
      "tabuk #438 out of 628 is found and added to the list\n",
      "balykshi #439 out of 628 is found and added to the list\n",
      "genhe #440 out of 628 is found and added to the list\n",
      "qasigiannguit #441 out of 628 is found and added to the list\n",
      "ponta delgada #442 out of 628 is found and added to the list\n",
      "katha record #442 is unknown and skipped.\n",
      "negombo #443 out of 628 is found and added to the list\n",
      "sorvag record #443 is unknown and skipped.\n",
      "piryion record #443 is unknown and skipped.\n",
      "robertsport #444 out of 628 is found and added to the list\n",
      "henties bay #445 out of 628 is found and added to the list\n",
      "churapcha #446 out of 628 is found and added to the list\n",
      "callaway #447 out of 628 is found and added to the list\n",
      "matara #448 out of 628 is found and added to the list\n",
      "inhambane #449 out of 628 is found and added to the list\n",
      "kashan #450 out of 628 is found and added to the list\n",
      "hualmay #451 out of 628 is found and added to the list\n",
      "san rafael del sur #452 out of 628 is found and added to the list\n",
      "paita #453 out of 628 is found and added to the list\n",
      "toamasina #454 out of 628 is found and added to the list\n",
      "ulladulla #455 out of 628 is found and added to the list\n",
      "makakilo city #456 out of 628 is found and added to the list\n",
      "xiamen #457 out of 628 is found and added to the list\n",
      "avera #458 out of 628 is found and added to the list\n",
      "mathbaria #459 out of 628 is found and added to the list\n",
      "puqi #460 out of 628 is found and added to the list\n",
      "verkhnevilyuysk #461 out of 628 is found and added to the list\n",
      "shakawe #462 out of 628 is found and added to the list\n",
      "kalmunai #463 out of 628 is found and added to the list\n",
      "shamsabad #464 out of 628 is found and added to the list\n",
      "karaul record #464 is unknown and skipped.\n",
      "carlisle #465 out of 628 is found and added to the list\n",
      "rawson #466 out of 628 is found and added to the list\n",
      "khasan #467 out of 628 is found and added to the list\n",
      "coihaique #468 out of 628 is found and added to the list\n",
      "mwaya #469 out of 628 is found and added to the list\n",
      "bousso #470 out of 628 is found and added to the list\n",
      "faya #471 out of 628 is found and added to the list\n",
      "lubumbashi #472 out of 628 is found and added to the list\n",
      "riyaq record #472 is unknown and skipped.\n",
      "hami #473 out of 628 is found and added to the list\n",
      "praia #474 out of 628 is found and added to the list\n",
      "solano #475 out of 628 is found and added to the list\n",
      "sencha #476 out of 628 is found and added to the list\n",
      "saint-leu #477 out of 628 is found and added to the list\n",
      "san juan #478 out of 628 is found and added to the list\n",
      "turukhansk #479 out of 628 is found and added to the list\n",
      "manokwari #480 out of 628 is found and added to the list\n",
      "rancho palos verdes #481 out of 628 is found and added to the list\n",
      "mehamn #482 out of 628 is found and added to the list\n",
      "diego de almagro #483 out of 628 is found and added to the list\n",
      "pauini #484 out of 628 is found and added to the list\n",
      "sorland #485 out of 628 is found and added to the list\n",
      "okakarara #486 out of 628 is found and added to the list\n",
      "humberto de campos #487 out of 628 is found and added to the list\n",
      "surt #488 out of 628 is found and added to the list\n",
      "saint-jean-port-joli #489 out of 628 is found and added to the list\n",
      "jalu #490 out of 628 is found and added to the list\n",
      "longlac record #490 is unknown and skipped.\n",
      "sulangan #491 out of 628 is found and added to the list\n",
      "am timan #492 out of 628 is found and added to the list\n",
      "cururupu #493 out of 628 is found and added to the list\n",
      "goderich #494 out of 628 is found and added to the list\n",
      "madimba #495 out of 628 is found and added to the list\n",
      "westport #496 out of 628 is found and added to the list\n",
      "goundam #497 out of 628 is found and added to the list\n",
      "griffith #498 out of 628 is found and added to the list\n",
      "columbus #499 out of 628 is found and added to the list\n",
      "unirea #500 out of 628 is found and added to the list\n",
      "vaitape #501 out of 628 is found and added to the list\n",
      "ixtapa #502 out of 628 is found and added to the list\n",
      "tenenkou #503 out of 628 is found and added to the list\n",
      "vila velha #504 out of 628 is found and added to the list\n",
      "naze #505 out of 628 is found and added to the list\n",
      "mocuba #506 out of 628 is found and added to the list\n",
      "haines junction #507 out of 628 is found and added to the list\n",
      "kuruman #508 out of 628 is found and added to the list\n",
      "nhulunbuy #509 out of 628 is found and added to the list\n",
      "mossendjo #510 out of 628 is found and added to the list\n",
      "minab #511 out of 628 is found and added to the list\n",
      "grand-lahou #512 out of 628 is found and added to the list\n",
      "sao miguel do araguaia #513 out of 628 is found and added to the list\n",
      "uchiza #514 out of 628 is found and added to the list\n",
      "nouadhibou #515 out of 628 is found and added to the list\n",
      "aktash #516 out of 628 is found and added to the list\n",
      "bandar-e lengeh #517 out of 628 is found and added to the list\n",
      "dingle #518 out of 628 is found and added to the list\n",
      "koungheul #519 out of 628 is found and added to the list\n",
      "nemuro #520 out of 628 is found and added to the list\n",
      "novaya igirma #521 out of 628 is found and added to the list\n",
      "machachi #522 out of 628 is found and added to the list\n",
      "pascagoula #523 out of 628 is found and added to the list\n",
      "aseri #524 out of 628 is found and added to the list\n",
      "mutoko #525 out of 628 is found and added to the list\n",
      "kruisfontein #526 out of 628 is found and added to the list\n",
      "oranjemund #527 out of 628 is found and added to the list\n",
      "hirado #528 out of 628 is found and added to the list\n",
      "thanh hoa #529 out of 628 is found and added to the list\n",
      "riachao das neves #530 out of 628 is found and added to the list\n",
      "talitsa #531 out of 628 is found and added to the list\n",
      "benguela #532 out of 628 is found and added to the list\n",
      "achisay record #532 is unknown and skipped.\n",
      "mahaicony record #532 is unknown and skipped.\n",
      "celestun #533 out of 628 is found and added to the list\n",
      "sumkino #534 out of 628 is found and added to the list\n",
      "kalaleh #535 out of 628 is found and added to the list\n",
      "sioux lookout #536 out of 628 is found and added to the list\n",
      "esso #537 out of 628 is found and added to the list\n",
      "nanlong #538 out of 628 is found and added to the list\n",
      "gat #539 out of 628 is found and added to the list\n",
      "vicam #540 out of 628 is found and added to the list\n",
      "anloga #541 out of 628 is found and added to the list\n",
      "bairiki #542 out of 628 is found and added to the list\n",
      "sobolevo #543 out of 628 is found and added to the list\n",
      "yarkovo #544 out of 628 is found and added to the list\n",
      "zaysan #545 out of 628 is found and added to the list\n",
      "porto walter #546 out of 628 is found and added to the list\n",
      "salta #547 out of 628 is found and added to the list\n",
      "capreol #548 out of 628 is found and added to the list\n",
      "abiy adi record #548 is unknown and skipped.\n",
      "ilo #549 out of 628 is found and added to the list\n",
      "saint-pierre #550 out of 628 is found and added to the list\n",
      "berlevag #551 out of 628 is found and added to the list\n",
      "bauska #552 out of 628 is found and added to the list\n",
      "santa maria #553 out of 628 is found and added to the list\n",
      "tarata #554 out of 628 is found and added to the list\n",
      "moura #555 out of 628 is found and added to the list\n",
      "masallatah #556 out of 628 is found and added to the list\n",
      "the valley #557 out of 628 is found and added to the list\n",
      "nepalganj record #557 is unknown and skipped.\n",
      "eureka #558 out of 628 is found and added to the list\n",
      "dunedin #559 out of 628 is found and added to the list\n",
      "santa cruz #560 out of 628 is found and added to the list\n",
      "mezen #561 out of 628 is found and added to the list\n",
      "rantepao #562 out of 628 is found and added to the list\n",
      "tazovskiy #563 out of 628 is found and added to the list\n",
      "ostrovnoy #564 out of 628 is found and added to the list\n",
      "namatanai #565 out of 628 is found and added to the list\n",
      "sambava #566 out of 628 is found and added to the list\n",
      "barwadih #567 out of 628 is found and added to the list\n",
      "canchungo #568 out of 628 is found and added to the list\n",
      "nioro #569 out of 628 is found and added to the list\n",
      "crotone #570 out of 628 is found and added to the list\n",
      "sibolga #571 out of 628 is found and added to the list\n",
      "sarakhs #572 out of 628 is found and added to the list\n",
      "jardim #573 out of 628 is found and added to the list\n",
      "santa isabel #574 out of 628 is found and added to the list\n"
     ]
    }
   ],
   "source": [
    "# Set up calls with json\n",
    "import json\n",
    "\n",
    "# base url\n",
    "base_url = f\"http://api.openweathermap.org/data/2.5/weather?\"\n",
    "\n",
    "# to make temps in farenheit (from Open Weather API documentation)\n",
    "units = \"imperial\"\n",
    "number = 0\n",
    "# make empty lists for collecting data\n",
    "lat = []\n",
    "lon = []\n",
    "temp = []\n",
    "hum = []\n",
    "clouds = []\n",
    "wind_speed = []\n",
    "city_name = []\n",
    "\n",
    "#loop through the list of cities generated above and get information needed to make graphs below\n",
    "for city in cities:\n",
    "    query = f'q={city}&units={units}&appid={weather_api_key}'\n",
    "    response = requests.get(base_url+query).json()\n",
    "    try:\n",
    "        lat.append(response['coord']['lat'])\n",
    "        lon.append(response['coord']['lon'])\n",
    "        temp.append(response['main']['temp'])\n",
    "        hum.append(response['main']['humidity'])\n",
    "        clouds.append(response['clouds']['all'])\n",
    "        wind_speed.append(response['wind']['speed'])\n",
    "        city_name.append(response['name'])\n",
    "        number = number + 1\n",
    "        print(f'{city} #{number} out of {len(cities)} is found and added to the list')\n",
    "    except KeyError:\n",
    "        print(f'{city} record #{number} is unknown and skipped.')\n"
   ]
  },
  {
   "cell_type": "markdown",
   "metadata": {},
   "source": [
    "### Convert Raw Data to DataFrame\n",
    "* Export the city data into a .csv.\n",
    "* Display the DataFrame"
   ]
  },
  {
   "cell_type": "code",
   "execution_count": 52,
   "metadata": {},
   "outputs": [],
   "source": [
    "cities_df = pd.DataFrame({\"City\" : city_name, \"Lat\" : lat, \"Lon\": lon, \"Temp (F)\" : temp, \"Humidity\" : hum, \"Cloudiness\": clouds, \"Wind Speed\": wind_speed})\n",
    "cities_df.to_csv(\"cities.csv\")"
   ]
  },
  {
   "cell_type": "code",
   "execution_count": null,
   "metadata": {},
   "outputs": [],
   "source": []
  },
  {
   "cell_type": "markdown",
   "metadata": {},
   "source": [
    "## Inspect the data and remove the cities where the humidity > 100%.\n",
    "----\n",
    "Skip this step if there are no cities that have humidity > 100%. "
   ]
  },
  {
   "cell_type": "code",
   "execution_count": 73,
   "metadata": {},
   "outputs": [
    {
     "output_type": "stream",
     "name": "stdout",
     "text": [
      "0\n"
     ]
    },
    {
     "output_type": "execute_result",
     "data": {
      "text/plain": [
       "                        City      Lat      Lon  Temp (F)  Humidity  \\\n",
       "312                 Klaksvík  62.2266  -6.5890     42.80       100   \n",
       "433                   Bereda  43.2686  -7.5406     54.52       100   \n",
       "246          Sulphur Springs  33.1385 -95.6011     63.32       100   \n",
       "109                    Ancud -41.8697 -73.8203     46.69       100   \n",
       "108                 Liseleje  56.0053  11.9483     38.53       100   \n",
       "249                Vestmanna  62.1564  -7.1664     42.80       100   \n",
       "198                  Pachino  36.7186  15.0907     47.75       100   \n",
       "216                     Poli  -3.3333  36.8000     66.99       100   \n",
       "233                   Torbay  47.6666 -52.7314     37.18       100   \n",
       "379             Bartlesville  36.7473 -95.9808     57.81       100   \n",
       "47              Port-Cartier  50.0334 -66.8654     32.72       100   \n",
       "521                 Machachi  -0.5000 -78.5667     50.85       100   \n",
       "538               Kiryat Gat  31.6100  34.7642     64.26       100   \n",
       "114            Mar del Plata -38.0023 -57.5575     61.29       100   \n",
       "329               Leeuwarden  53.2014   5.8086     37.58       100   \n",
       "179                  Cayenne   4.9333 -52.3333     77.41       100   \n",
       "559  Santa Cruz de la Sierra -17.8000 -63.1667     71.60       100   \n",
       "321             Novy Urengoy  66.0833  76.6333     34.52       100   \n",
       "84            Port Elizabeth -33.9180  25.5701     57.20       100   \n",
       "159                     Suda  59.1525  37.5582     41.00       100   \n",
       "569                  Crotone  39.0851  17.1178     47.26       100   \n",
       "149                 Yar-Sale  66.8333  70.8333     32.61        99   \n",
       "98                   Dudinka  69.4058  86.1778     32.61        99   \n",
       "49                   Talnakh  69.4865  88.3972     32.88        99   \n",
       "380                   Mitzic   0.7821  11.5490     68.20        99   \n",
       "\n",
       "     Cloudiness  Wind Speed  \n",
       "312          90        4.61  \n",
       "433          98        7.00  \n",
       "246          90        4.43  \n",
       "109          40        3.04  \n",
       "108           7       14.16  \n",
       "249          90        4.61  \n",
       "198          92        3.44  \n",
       "216          75        3.69  \n",
       "233          75       12.66  \n",
       "379          90        5.75  \n",
       "47           75        2.30  \n",
       "521          75        3.44  \n",
       "538          33        1.99  \n",
       "114          90        3.44  \n",
       "329          75        3.44  \n",
       "179          75        3.44  \n",
       "559          90        9.22  \n",
       "321         100        8.66  \n",
       "84           90        5.75  \n",
       "159          75        2.24  \n",
       "569          90       16.11  \n",
       "149          95        7.07  \n",
       "98          100       15.43  \n",
       "49          100        9.75  \n",
       "380         100        2.62  "
      ],
      "text/html": "<div>\n<style scoped>\n    .dataframe tbody tr th:only-of-type {\n        vertical-align: middle;\n    }\n\n    .dataframe tbody tr th {\n        vertical-align: top;\n    }\n\n    .dataframe thead th {\n        text-align: right;\n    }\n</style>\n<table border=\"1\" class=\"dataframe\">\n  <thead>\n    <tr style=\"text-align: right;\">\n      <th></th>\n      <th>City</th>\n      <th>Lat</th>\n      <th>Lon</th>\n      <th>Temp (F)</th>\n      <th>Humidity</th>\n      <th>Cloudiness</th>\n      <th>Wind Speed</th>\n    </tr>\n  </thead>\n  <tbody>\n    <tr>\n      <th>312</th>\n      <td>Klaksvík</td>\n      <td>62.2266</td>\n      <td>-6.5890</td>\n      <td>42.80</td>\n      <td>100</td>\n      <td>90</td>\n      <td>4.61</td>\n    </tr>\n    <tr>\n      <th>433</th>\n      <td>Bereda</td>\n      <td>43.2686</td>\n      <td>-7.5406</td>\n      <td>54.52</td>\n      <td>100</td>\n      <td>98</td>\n      <td>7.00</td>\n    </tr>\n    <tr>\n      <th>246</th>\n      <td>Sulphur Springs</td>\n      <td>33.1385</td>\n      <td>-95.6011</td>\n      <td>63.32</td>\n      <td>100</td>\n      <td>90</td>\n      <td>4.43</td>\n    </tr>\n    <tr>\n      <th>109</th>\n      <td>Ancud</td>\n      <td>-41.8697</td>\n      <td>-73.8203</td>\n      <td>46.69</td>\n      <td>100</td>\n      <td>40</td>\n      <td>3.04</td>\n    </tr>\n    <tr>\n      <th>108</th>\n      <td>Liseleje</td>\n      <td>56.0053</td>\n      <td>11.9483</td>\n      <td>38.53</td>\n      <td>100</td>\n      <td>7</td>\n      <td>14.16</td>\n    </tr>\n    <tr>\n      <th>249</th>\n      <td>Vestmanna</td>\n      <td>62.1564</td>\n      <td>-7.1664</td>\n      <td>42.80</td>\n      <td>100</td>\n      <td>90</td>\n      <td>4.61</td>\n    </tr>\n    <tr>\n      <th>198</th>\n      <td>Pachino</td>\n      <td>36.7186</td>\n      <td>15.0907</td>\n      <td>47.75</td>\n      <td>100</td>\n      <td>92</td>\n      <td>3.44</td>\n    </tr>\n    <tr>\n      <th>216</th>\n      <td>Poli</td>\n      <td>-3.3333</td>\n      <td>36.8000</td>\n      <td>66.99</td>\n      <td>100</td>\n      <td>75</td>\n      <td>3.69</td>\n    </tr>\n    <tr>\n      <th>233</th>\n      <td>Torbay</td>\n      <td>47.6666</td>\n      <td>-52.7314</td>\n      <td>37.18</td>\n      <td>100</td>\n      <td>75</td>\n      <td>12.66</td>\n    </tr>\n    <tr>\n      <th>379</th>\n      <td>Bartlesville</td>\n      <td>36.7473</td>\n      <td>-95.9808</td>\n      <td>57.81</td>\n      <td>100</td>\n      <td>90</td>\n      <td>5.75</td>\n    </tr>\n    <tr>\n      <th>47</th>\n      <td>Port-Cartier</td>\n      <td>50.0334</td>\n      <td>-66.8654</td>\n      <td>32.72</td>\n      <td>100</td>\n      <td>75</td>\n      <td>2.30</td>\n    </tr>\n    <tr>\n      <th>521</th>\n      <td>Machachi</td>\n      <td>-0.5000</td>\n      <td>-78.5667</td>\n      <td>50.85</td>\n      <td>100</td>\n      <td>75</td>\n      <td>3.44</td>\n    </tr>\n    <tr>\n      <th>538</th>\n      <td>Kiryat Gat</td>\n      <td>31.6100</td>\n      <td>34.7642</td>\n      <td>64.26</td>\n      <td>100</td>\n      <td>33</td>\n      <td>1.99</td>\n    </tr>\n    <tr>\n      <th>114</th>\n      <td>Mar del Plata</td>\n      <td>-38.0023</td>\n      <td>-57.5575</td>\n      <td>61.29</td>\n      <td>100</td>\n      <td>90</td>\n      <td>3.44</td>\n    </tr>\n    <tr>\n      <th>329</th>\n      <td>Leeuwarden</td>\n      <td>53.2014</td>\n      <td>5.8086</td>\n      <td>37.58</td>\n      <td>100</td>\n      <td>75</td>\n      <td>3.44</td>\n    </tr>\n    <tr>\n      <th>179</th>\n      <td>Cayenne</td>\n      <td>4.9333</td>\n      <td>-52.3333</td>\n      <td>77.41</td>\n      <td>100</td>\n      <td>75</td>\n      <td>3.44</td>\n    </tr>\n    <tr>\n      <th>559</th>\n      <td>Santa Cruz de la Sierra</td>\n      <td>-17.8000</td>\n      <td>-63.1667</td>\n      <td>71.60</td>\n      <td>100</td>\n      <td>90</td>\n      <td>9.22</td>\n    </tr>\n    <tr>\n      <th>321</th>\n      <td>Novy Urengoy</td>\n      <td>66.0833</td>\n      <td>76.6333</td>\n      <td>34.52</td>\n      <td>100</td>\n      <td>100</td>\n      <td>8.66</td>\n    </tr>\n    <tr>\n      <th>84</th>\n      <td>Port Elizabeth</td>\n      <td>-33.9180</td>\n      <td>25.5701</td>\n      <td>57.20</td>\n      <td>100</td>\n      <td>90</td>\n      <td>5.75</td>\n    </tr>\n    <tr>\n      <th>159</th>\n      <td>Suda</td>\n      <td>59.1525</td>\n      <td>37.5582</td>\n      <td>41.00</td>\n      <td>100</td>\n      <td>75</td>\n      <td>2.24</td>\n    </tr>\n    <tr>\n      <th>569</th>\n      <td>Crotone</td>\n      <td>39.0851</td>\n      <td>17.1178</td>\n      <td>47.26</td>\n      <td>100</td>\n      <td>90</td>\n      <td>16.11</td>\n    </tr>\n    <tr>\n      <th>149</th>\n      <td>Yar-Sale</td>\n      <td>66.8333</td>\n      <td>70.8333</td>\n      <td>32.61</td>\n      <td>99</td>\n      <td>95</td>\n      <td>7.07</td>\n    </tr>\n    <tr>\n      <th>98</th>\n      <td>Dudinka</td>\n      <td>69.4058</td>\n      <td>86.1778</td>\n      <td>32.61</td>\n      <td>99</td>\n      <td>100</td>\n      <td>15.43</td>\n    </tr>\n    <tr>\n      <th>49</th>\n      <td>Talnakh</td>\n      <td>69.4865</td>\n      <td>88.3972</td>\n      <td>32.88</td>\n      <td>99</td>\n      <td>100</td>\n      <td>9.75</td>\n    </tr>\n    <tr>\n      <th>380</th>\n      <td>Mitzic</td>\n      <td>0.7821</td>\n      <td>11.5490</td>\n      <td>68.20</td>\n      <td>99</td>\n      <td>100</td>\n      <td>2.62</td>\n    </tr>\n  </tbody>\n</table>\n</div>"
     },
     "metadata": {},
     "execution_count": 73
    }
   ],
   "source": [
    "# check the number of cities that have >100% humidity\n",
    "greaterthan100 = cities_df[cities_df['Humidity'] > 100].index\n",
    "print(len(greaterthan100))\n",
    "\n",
    "hum_sorted = cities_df.sort_values('Humidity', ascending=False)\n",
    "hum_sorted.head(25)\n"
   ]
  },
  {
   "cell_type": "code",
   "execution_count": null,
   "metadata": {},
   "outputs": [],
   "source": [
    "#  Get the indices of cities that have humidity over 100%.\n",
    "\n",
    "\n",
    "\n",
    "# There are no cities with greater than 100% humidity"
   ]
  },
  {
   "cell_type": "code",
   "execution_count": null,
   "metadata": {},
   "outputs": [],
   "source": [
    "# Make a new DataFrame equal to the city data to drop all humidity outliers by index.\n",
    "# Passing \"inplace=False\" will make a copy of the city_data DataFrame, which we call \"clean_city_data\".\n"
   ]
  },
  {
   "cell_type": "code",
   "execution_count": null,
   "metadata": {},
   "outputs": [],
   "source": [
    "\n"
   ]
  },
  {
   "cell_type": "markdown",
   "metadata": {},
   "source": [
    "## Plotting the Data\n",
    "* Use proper labeling of the plots using plot titles (including date of analysis) and axes labels.\n",
    "* Save the plotted figures as .pngs."
   ]
  },
  {
   "cell_type": "markdown",
   "metadata": {},
   "source": [
    "## Latitude vs. Temperature Plot"
   ]
  },
  {
   "cell_type": "code",
   "execution_count": null,
   "metadata": {
    "scrolled": true
   },
   "outputs": [],
   "source": []
  },
  {
   "cell_type": "markdown",
   "metadata": {},
   "source": [
    "## Latitude vs. Humidity Plot"
   ]
  },
  {
   "cell_type": "code",
   "execution_count": null,
   "metadata": {},
   "outputs": [],
   "source": []
  },
  {
   "cell_type": "markdown",
   "metadata": {},
   "source": [
    "## Latitude vs. Cloudiness Plot"
   ]
  },
  {
   "cell_type": "code",
   "execution_count": null,
   "metadata": {},
   "outputs": [],
   "source": []
  },
  {
   "cell_type": "markdown",
   "metadata": {},
   "source": [
    "## Latitude vs. Wind Speed Plot"
   ]
  },
  {
   "cell_type": "code",
   "execution_count": null,
   "metadata": {},
   "outputs": [],
   "source": []
  },
  {
   "cell_type": "markdown",
   "metadata": {},
   "source": [
    "## Linear Regression"
   ]
  },
  {
   "cell_type": "code",
   "execution_count": null,
   "metadata": {},
   "outputs": [],
   "source": []
  },
  {
   "cell_type": "markdown",
   "metadata": {},
   "source": [
    "####  Northern Hemisphere - Max Temp vs. Latitude Linear Regression"
   ]
  },
  {
   "cell_type": "code",
   "execution_count": null,
   "metadata": {},
   "outputs": [],
   "source": []
  },
  {
   "cell_type": "markdown",
   "metadata": {},
   "source": [
    "####  Southern Hemisphere - Max Temp vs. Latitude Linear Regression"
   ]
  },
  {
   "cell_type": "code",
   "execution_count": null,
   "metadata": {},
   "outputs": [],
   "source": []
  },
  {
   "cell_type": "markdown",
   "metadata": {},
   "source": [
    "####  Northern Hemisphere - Humidity (%) vs. Latitude Linear Regression"
   ]
  },
  {
   "cell_type": "code",
   "execution_count": null,
   "metadata": {},
   "outputs": [],
   "source": []
  },
  {
   "cell_type": "markdown",
   "metadata": {},
   "source": [
    "####  Southern Hemisphere - Humidity (%) vs. Latitude Linear Regression"
   ]
  },
  {
   "cell_type": "code",
   "execution_count": null,
   "metadata": {},
   "outputs": [],
   "source": []
  },
  {
   "cell_type": "markdown",
   "metadata": {},
   "source": [
    "####  Northern Hemisphere - Cloudiness (%) vs. Latitude Linear Regression"
   ]
  },
  {
   "cell_type": "code",
   "execution_count": null,
   "metadata": {},
   "outputs": [],
   "source": []
  },
  {
   "cell_type": "markdown",
   "metadata": {},
   "source": [
    "####  Southern Hemisphere - Cloudiness (%) vs. Latitude Linear Regression"
   ]
  },
  {
   "cell_type": "code",
   "execution_count": null,
   "metadata": {},
   "outputs": [],
   "source": []
  },
  {
   "cell_type": "markdown",
   "metadata": {},
   "source": [
    "####  Northern Hemisphere - Wind Speed (mph) vs. Latitude Linear Regression"
   ]
  },
  {
   "cell_type": "code",
   "execution_count": null,
   "metadata": {},
   "outputs": [],
   "source": []
  },
  {
   "cell_type": "markdown",
   "metadata": {},
   "source": [
    "####  Southern Hemisphere - Wind Speed (mph) vs. Latitude Linear Regression"
   ]
  },
  {
   "cell_type": "code",
   "execution_count": null,
   "metadata": {},
   "outputs": [],
   "source": []
  },
  {
   "cell_type": "code",
   "execution_count": null,
   "metadata": {},
   "outputs": [],
   "source": []
  }
 ],
 "metadata": {
  "anaconda-cloud": {},
  "kernel_info": {
   "name": "python3"
  },
  "kernelspec": {
   "name": "python379jvsc74a57bd0bd230f86950030d0145785e8ad3e4440ba8f9dbe936dc92717eba51f4029bf4b",
   "display_name": "Python 3.7.9 64-bit ('PythonData': conda)"
  },
  "language_info": {
   "codemirror_mode": {
    "name": "ipython",
    "version": 3
   },
   "file_extension": ".py",
   "mimetype": "text/x-python",
   "name": "python",
   "nbconvert_exporter": "python",
   "pygments_lexer": "ipython3",
   "version": "3.7.9"
  },
  "latex_envs": {
   "LaTeX_envs_menu_present": true,
   "autoclose": false,
   "autocomplete": true,
   "bibliofile": "biblio.bib",
   "cite_by": "apalike",
   "current_citInitial": 1,
   "eqLabelWithNumbers": true,
   "eqNumInitial": 1,
   "hotkeys": {
    "equation": "Ctrl-E",
    "itemize": "Ctrl-I"
   },
   "labels_anchors": false,
   "latex_user_defs": false,
   "report_style_numbering": false,
   "user_envs_cfg": false
  },
  "nteract": {
   "version": "0.12.3"
  }
 },
 "nbformat": 4,
 "nbformat_minor": 2
}