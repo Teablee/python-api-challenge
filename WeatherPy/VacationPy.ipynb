{
 "cells": [
  {
   "cell_type": "markdown",
   "metadata": {},
   "source": [
    "# VacationPy\n",
    "----\n",
    "\n",
    "#### Note\n",
    "* Keep an eye on your API usage. Use https://developers.google.com/maps/reporting/gmp-reporting as reference for how to monitor your usage and billing.\n",
    "\n",
    "* Instructions have been included for each segment. You do not have to follow them exactly, but they are included to help you think through the steps."
   ]
  },
  {
   "cell_type": "code",
   "execution_count": 11,
   "metadata": {},
   "outputs": [],
   "source": [
    "# Dependencies and Setup\n",
    "import matplotlib.pyplot as plt\n",
    "import pandas as pd\n",
    "import numpy as np\n",
    "import requests\n",
    "import gmaps\n",
    "import os\n",
    "\n",
    "# Import API key\n",
    "from api_keys import g_key"
   ]
  },
  {
   "cell_type": "markdown",
   "metadata": {},
   "source": [
    "### Store Part I results into DataFrame\n",
    "* Load the csv exported in Part I to a DataFrame"
   ]
  },
  {
   "cell_type": "code",
   "execution_count": 12,
   "metadata": {},
   "outputs": [
    {
     "output_type": "execute_result",
     "data": {
      "text/plain": [
       "     Unnamed: 0           City Country      Lat       Lng  Temp (F)  Humidity  \\\n",
       "0             0          Bluff      NZ -46.6000  168.3333     48.99        78   \n",
       "1             1      Busselton      AU -33.6500  115.3333     63.19        82   \n",
       "2             2     Porto-Novo      BJ   6.4965    2.6036     84.20        84   \n",
       "3             3           Tete      MZ -16.1564   33.5867     73.20        78   \n",
       "4             4         Barrow      US  71.2906 -156.7887     30.20        80   \n",
       "..          ...            ...     ...      ...       ...       ...       ...   \n",
       "555         555       Moranbah      AU -22.0016  148.0466     71.47        66   \n",
       "556         556       Mercedes      AR -34.6515  -59.4307     60.03        71   \n",
       "557         557  Clarence Town      AU -32.5833  151.7833     63.54        63   \n",
       "558         558      Boa Vista      BR   2.8197  -60.6733     84.20        61   \n",
       "559         559      Jiaocheng      CN  24.6774  116.1389     68.50        91   \n",
       "\n",
       "     Cloudiness  Wind Speed  Max Temp (F)  \n",
       "0            96        7.00         48.99  \n",
       "1             1        1.54         63.19  \n",
       "2            40       12.66         84.20  \n",
       "3             0        4.61         73.40  \n",
       "4             1        5.75         30.20  \n",
       "..          ...         ...           ...  \n",
       "555          84       20.78         71.47  \n",
       "556           2        3.00         62.01  \n",
       "557           0       11.50         64.99  \n",
       "558          40        6.91         84.20  \n",
       "559         100        2.06         68.50  \n",
       "\n",
       "[560 rows x 10 columns]"
      ],
      "text/html": "<div>\n<style scoped>\n    .dataframe tbody tr th:only-of-type {\n        vertical-align: middle;\n    }\n\n    .dataframe tbody tr th {\n        vertical-align: top;\n    }\n\n    .dataframe thead th {\n        text-align: right;\n    }\n</style>\n<table border=\"1\" class=\"dataframe\">\n  <thead>\n    <tr style=\"text-align: right;\">\n      <th></th>\n      <th>Unnamed: 0</th>\n      <th>City</th>\n      <th>Country</th>\n      <th>Lat</th>\n      <th>Lng</th>\n      <th>Temp (F)</th>\n      <th>Humidity</th>\n      <th>Cloudiness</th>\n      <th>Wind Speed</th>\n      <th>Max Temp (F)</th>\n    </tr>\n  </thead>\n  <tbody>\n    <tr>\n      <th>0</th>\n      <td>0</td>\n      <td>Bluff</td>\n      <td>NZ</td>\n      <td>-46.6000</td>\n      <td>168.3333</td>\n      <td>48.99</td>\n      <td>78</td>\n      <td>96</td>\n      <td>7.00</td>\n      <td>48.99</td>\n    </tr>\n    <tr>\n      <th>1</th>\n      <td>1</td>\n      <td>Busselton</td>\n      <td>AU</td>\n      <td>-33.6500</td>\n      <td>115.3333</td>\n      <td>63.19</td>\n      <td>82</td>\n      <td>1</td>\n      <td>1.54</td>\n      <td>63.19</td>\n    </tr>\n    <tr>\n      <th>2</th>\n      <td>2</td>\n      <td>Porto-Novo</td>\n      <td>BJ</td>\n      <td>6.4965</td>\n      <td>2.6036</td>\n      <td>84.20</td>\n      <td>84</td>\n      <td>40</td>\n      <td>12.66</td>\n      <td>84.20</td>\n    </tr>\n    <tr>\n      <th>3</th>\n      <td>3</td>\n      <td>Tete</td>\n      <td>MZ</td>\n      <td>-16.1564</td>\n      <td>33.5867</td>\n      <td>73.20</td>\n      <td>78</td>\n      <td>0</td>\n      <td>4.61</td>\n      <td>73.40</td>\n    </tr>\n    <tr>\n      <th>4</th>\n      <td>4</td>\n      <td>Barrow</td>\n      <td>US</td>\n      <td>71.2906</td>\n      <td>-156.7887</td>\n      <td>30.20</td>\n      <td>80</td>\n      <td>1</td>\n      <td>5.75</td>\n      <td>30.20</td>\n    </tr>\n    <tr>\n      <th>...</th>\n      <td>...</td>\n      <td>...</td>\n      <td>...</td>\n      <td>...</td>\n      <td>...</td>\n      <td>...</td>\n      <td>...</td>\n      <td>...</td>\n      <td>...</td>\n      <td>...</td>\n    </tr>\n    <tr>\n      <th>555</th>\n      <td>555</td>\n      <td>Moranbah</td>\n      <td>AU</td>\n      <td>-22.0016</td>\n      <td>148.0466</td>\n      <td>71.47</td>\n      <td>66</td>\n      <td>84</td>\n      <td>20.78</td>\n      <td>71.47</td>\n    </tr>\n    <tr>\n      <th>556</th>\n      <td>556</td>\n      <td>Mercedes</td>\n      <td>AR</td>\n      <td>-34.6515</td>\n      <td>-59.4307</td>\n      <td>60.03</td>\n      <td>71</td>\n      <td>2</td>\n      <td>3.00</td>\n      <td>62.01</td>\n    </tr>\n    <tr>\n      <th>557</th>\n      <td>557</td>\n      <td>Clarence Town</td>\n      <td>AU</td>\n      <td>-32.5833</td>\n      <td>151.7833</td>\n      <td>63.54</td>\n      <td>63</td>\n      <td>0</td>\n      <td>11.50</td>\n      <td>64.99</td>\n    </tr>\n    <tr>\n      <th>558</th>\n      <td>558</td>\n      <td>Boa Vista</td>\n      <td>BR</td>\n      <td>2.8197</td>\n      <td>-60.6733</td>\n      <td>84.20</td>\n      <td>61</td>\n      <td>40</td>\n      <td>6.91</td>\n      <td>84.20</td>\n    </tr>\n    <tr>\n      <th>559</th>\n      <td>559</td>\n      <td>Jiaocheng</td>\n      <td>CN</td>\n      <td>24.6774</td>\n      <td>116.1389</td>\n      <td>68.50</td>\n      <td>91</td>\n      <td>100</td>\n      <td>2.06</td>\n      <td>68.50</td>\n    </tr>\n  </tbody>\n</table>\n<p>560 rows × 10 columns</p>\n</div>"
     },
     "metadata": {},
     "execution_count": 12
    }
   ],
   "source": [
    "csv_path = r\"cities.csv\"\n",
    "cities_df = pd.read_csv(csv_path)\n",
    "cities_df"
   ]
  },
  {
   "cell_type": "markdown",
   "metadata": {},
   "source": [
    "### Humidity Heatmap\n",
    "* Configure gmaps.\n",
    "* Use the Lat and Lng as locations and Humidity as the weight.\n",
    "* Add Heatmap layer to map."
   ]
  },
  {
   "cell_type": "code",
   "execution_count": 13,
   "metadata": {},
   "outputs": [],
   "source": [
    "#configure gmaps\n",
    "gmaps.configure(api_key=g_key)"
   ]
  },
  {
   "cell_type": "code",
   "execution_count": 15,
   "metadata": {},
   "outputs": [
    {
     "output_type": "display_data",
     "data": {
      "text/plain": "Figure(layout=FigureLayout(height='420px'))",
      "application/vnd.jupyter.widget-view+json": {
       "version_major": 2,
       "version_minor": 0,
       "model_id": "ebdd7947d0804d8c92248e42849c54ce"
      }
     },
     "metadata": {}
    }
   ],
   "source": [
    "# store lat and lon as locations\n",
    "locations = cities_df[['Lat', 'Lng']].astype(float)\n",
    "\n",
    "# convert humidity to float\n",
    "humidity = cities_df['Humidity'].astype(float)\n",
    "\n",
    "fig = gmaps.figure()\n",
    "\n",
    "heat_layer = gmaps.heatmap_layer(locations, weights=humidity, dissipating=False, max_intensity=100, point_radius = 2)\n",
    "\n",
    "fig.add_layer(heat_layer)\n",
    "\n",
    "fig"
   ]
  },
  {
   "cell_type": "markdown",
   "metadata": {},
   "source": [
    "### Create new DataFrame fitting weather criteria\n",
    "* Narrow down the cities to fit weather conditions.\n",
    "* Drop any rows will null values."
   ]
  },
  {
   "cell_type": "code",
   "execution_count": 16,
   "metadata": {},
   "outputs": [
    {
     "output_type": "execute_result",
     "data": {
      "text/plain": [
       "     Unnamed: 0           City Country      Lat       Lng  Temp (F)  Humidity  \\\n",
       "0             0          Bluff      NZ -46.6000  168.3333     48.99        78   \n",
       "1             1      Busselton      AU -33.6500  115.3333     63.19        82   \n",
       "2             2     Porto-Novo      BJ   6.4965    2.6036     84.20        84   \n",
       "3             3           Tete      MZ -16.1564   33.5867     73.20        78   \n",
       "4             4         Barrow      US  71.2906 -156.7887     30.20        80   \n",
       "..          ...            ...     ...      ...       ...       ...       ...   \n",
       "555         555       Moranbah      AU -22.0016  148.0466     71.47        66   \n",
       "556         556       Mercedes      AR -34.6515  -59.4307     60.03        71   \n",
       "557         557  Clarence Town      AU -32.5833  151.7833     63.54        63   \n",
       "558         558      Boa Vista      BR   2.8197  -60.6733     84.20        61   \n",
       "559         559      Jiaocheng      CN  24.6774  116.1389     68.50        91   \n",
       "\n",
       "     Cloudiness  Wind Speed  Max Temp (F)  \n",
       "0            96        7.00         48.99  \n",
       "1             1        1.54         63.19  \n",
       "2            40       12.66         84.20  \n",
       "3             0        4.61         73.40  \n",
       "4             1        5.75         30.20  \n",
       "..          ...         ...           ...  \n",
       "555          84       20.78         71.47  \n",
       "556           2        3.00         62.01  \n",
       "557           0       11.50         64.99  \n",
       "558          40        6.91         84.20  \n",
       "559         100        2.06         68.50  \n",
       "\n",
       "[558 rows x 10 columns]"
      ],
      "text/html": "<div>\n<style scoped>\n    .dataframe tbody tr th:only-of-type {\n        vertical-align: middle;\n    }\n\n    .dataframe tbody tr th {\n        vertical-align: top;\n    }\n\n    .dataframe thead th {\n        text-align: right;\n    }\n</style>\n<table border=\"1\" class=\"dataframe\">\n  <thead>\n    <tr style=\"text-align: right;\">\n      <th></th>\n      <th>Unnamed: 0</th>\n      <th>City</th>\n      <th>Country</th>\n      <th>Lat</th>\n      <th>Lng</th>\n      <th>Temp (F)</th>\n      <th>Humidity</th>\n      <th>Cloudiness</th>\n      <th>Wind Speed</th>\n      <th>Max Temp (F)</th>\n    </tr>\n  </thead>\n  <tbody>\n    <tr>\n      <th>0</th>\n      <td>0</td>\n      <td>Bluff</td>\n      <td>NZ</td>\n      <td>-46.6000</td>\n      <td>168.3333</td>\n      <td>48.99</td>\n      <td>78</td>\n      <td>96</td>\n      <td>7.00</td>\n      <td>48.99</td>\n    </tr>\n    <tr>\n      <th>1</th>\n      <td>1</td>\n      <td>Busselton</td>\n      <td>AU</td>\n      <td>-33.6500</td>\n      <td>115.3333</td>\n      <td>63.19</td>\n      <td>82</td>\n      <td>1</td>\n      <td>1.54</td>\n      <td>63.19</td>\n    </tr>\n    <tr>\n      <th>2</th>\n      <td>2</td>\n      <td>Porto-Novo</td>\n      <td>BJ</td>\n      <td>6.4965</td>\n      <td>2.6036</td>\n      <td>84.20</td>\n      <td>84</td>\n      <td>40</td>\n      <td>12.66</td>\n      <td>84.20</td>\n    </tr>\n    <tr>\n      <th>3</th>\n      <td>3</td>\n      <td>Tete</td>\n      <td>MZ</td>\n      <td>-16.1564</td>\n      <td>33.5867</td>\n      <td>73.20</td>\n      <td>78</td>\n      <td>0</td>\n      <td>4.61</td>\n      <td>73.40</td>\n    </tr>\n    <tr>\n      <th>4</th>\n      <td>4</td>\n      <td>Barrow</td>\n      <td>US</td>\n      <td>71.2906</td>\n      <td>-156.7887</td>\n      <td>30.20</td>\n      <td>80</td>\n      <td>1</td>\n      <td>5.75</td>\n      <td>30.20</td>\n    </tr>\n    <tr>\n      <th>...</th>\n      <td>...</td>\n      <td>...</td>\n      <td>...</td>\n      <td>...</td>\n      <td>...</td>\n      <td>...</td>\n      <td>...</td>\n      <td>...</td>\n      <td>...</td>\n      <td>...</td>\n    </tr>\n    <tr>\n      <th>555</th>\n      <td>555</td>\n      <td>Moranbah</td>\n      <td>AU</td>\n      <td>-22.0016</td>\n      <td>148.0466</td>\n      <td>71.47</td>\n      <td>66</td>\n      <td>84</td>\n      <td>20.78</td>\n      <td>71.47</td>\n    </tr>\n    <tr>\n      <th>556</th>\n      <td>556</td>\n      <td>Mercedes</td>\n      <td>AR</td>\n      <td>-34.6515</td>\n      <td>-59.4307</td>\n      <td>60.03</td>\n      <td>71</td>\n      <td>2</td>\n      <td>3.00</td>\n      <td>62.01</td>\n    </tr>\n    <tr>\n      <th>557</th>\n      <td>557</td>\n      <td>Clarence Town</td>\n      <td>AU</td>\n      <td>-32.5833</td>\n      <td>151.7833</td>\n      <td>63.54</td>\n      <td>63</td>\n      <td>0</td>\n      <td>11.50</td>\n      <td>64.99</td>\n    </tr>\n    <tr>\n      <th>558</th>\n      <td>558</td>\n      <td>Boa Vista</td>\n      <td>BR</td>\n      <td>2.8197</td>\n      <td>-60.6733</td>\n      <td>84.20</td>\n      <td>61</td>\n      <td>40</td>\n      <td>6.91</td>\n      <td>84.20</td>\n    </tr>\n    <tr>\n      <th>559</th>\n      <td>559</td>\n      <td>Jiaocheng</td>\n      <td>CN</td>\n      <td>24.6774</td>\n      <td>116.1389</td>\n      <td>68.50</td>\n      <td>91</td>\n      <td>100</td>\n      <td>2.06</td>\n      <td>68.50</td>\n    </tr>\n  </tbody>\n</table>\n<p>558 rows × 10 columns</p>\n</div>"
     },
     "metadata": {},
     "execution_count": 16
    }
   ],
   "source": [
    "# drop NaN values\n",
    "\n",
    "cities_df = cities_df.dropna()\n",
    "cities_df"
   ]
  },
  {
   "cell_type": "markdown",
   "metadata": {},
   "source": [
    "### Hotel Map\n",
    "* Store into variable named `hotel_df`.\n",
    "* Add a \"Hotel Name\" column to the DataFrame.\n",
    "* Set parameters to search for hotels with 5000 meters.\n",
    "* Hit the Google Places API for each city's coordinates.\n",
    "* Store the first Hotel result into the DataFrame.\n",
    "* Plot markers on top of the heatmap."
   ]
  },
  {
   "cell_type": "code",
   "execution_count": 18,
   "metadata": {
    "tags": []
   },
   "outputs": [
    {
     "output_type": "stream",
     "name": "stderr",
     "text": [
      "ipykernel_launcher:8: SettingWithCopyWarning: \n",
      "A value is trying to be set on a copy of a slice from a DataFrame.\n",
      "Try using .loc[row_indexer,col_indexer] = value instead\n",
      "\n",
      "See the caveats in the documentation: https://pandas.pydata.org/pandas-docs/stable/user_guide/indexing.html#returning-a-view-versus-a-copy\n",
      "C:\\Users\\Tracy\\anaconda3\\envs\\PythonData\\lib\\site-packages\\pandas\\core\\indexing.py:1765: SettingWithCopyWarning: \n",
      "A value is trying to be set on a copy of a slice from a DataFrame.\n",
      "Try using .loc[row_indexer,col_indexer] = value instead\n",
      "\n",
      "See the caveats in the documentation: https://pandas.pydata.org/pandas-docs/stable/user_guide/indexing.html#returning-a-view-versus-a-copy\n",
      "  isetter(loc, value)\n",
      "Skipping, cannot find hotel within 5000m.\n",
      "Skipping, cannot find hotel within 5000m.\n",
      "Skipping, cannot find hotel within 5000m.\n",
      "Skipping, cannot find hotel within 5000m.\n"
     ]
    }
   ],
   "source": [
    "import json\n",
    "import requests\n",
    "\n",
    "# Make a new dataframe to store the values\n",
    "hotel_df = cities_df\n",
    "\n",
    "#create a blank column named for storing Hotel Name\n",
    "hotel_df[\"Hotel Name\"]= \"\"\n",
    "\n",
    "# Base url for nearbysearch\n",
    "base_url = \"https://maps.googleapis.com/maps/api/place/nearbysearch/json\"\n",
    "\n",
    "# set up parameters with radius being 5000 meters\n",
    "params = {\n",
    "    \"radius\" : 5000,\n",
    "    \"type\": \"hotel\",\n",
    "    \"key\": g_key\n",
    "}\n",
    "\n",
    "for index, row in hotel_df.iterrows():\n",
    "    lat = row['Lat']\n",
    "    lng = row['Lng']\n",
    "\n",
    "    params['location']=f'{lat},{lng}'\n",
    "\n",
    "    hotel_name = requests.get(base_url, params=params)\n",
    "    hotel_name = hotel_name.json()\n",
    "    # print(json.dumps(hotel_name, indent=4, sort_keys=True))\n",
    "    try:\n",
    "        hotel_df.loc[index, 'Hotel Name'] = hotel_name['results'][0]['name']\n",
    "    except (KeyError, IndexError):\n",
    "        print(f'Skipping, cannot find hotel within 5000m.')\n",
    "\n",
    "\n",
    "\n"
   ]
  },
  {
   "cell_type": "code",
   "execution_count": 19,
   "metadata": {},
   "outputs": [
    {
     "output_type": "execute_result",
     "data": {
      "text/plain": [
       "     Unnamed: 0           City Country      Lat       Lng  Temp (F)  Humidity  \\\n",
       "0             0          Bluff      NZ -46.6000  168.3333     48.99        78   \n",
       "1             1      Busselton      AU -33.6500  115.3333     63.19        82   \n",
       "2             2     Porto-Novo      BJ   6.4965    2.6036     84.20        84   \n",
       "3             3           Tete      MZ -16.1564   33.5867     73.20        78   \n",
       "4             4         Barrow      US  71.2906 -156.7887     30.20        80   \n",
       "..          ...            ...     ...      ...       ...       ...       ...   \n",
       "555         555       Moranbah      AU -22.0016  148.0466     71.47        66   \n",
       "556         556       Mercedes      AR -34.6515  -59.4307     60.03        71   \n",
       "557         557  Clarence Town      AU -32.5833  151.7833     63.54        63   \n",
       "558         558      Boa Vista      BR   2.8197  -60.6733     84.20        61   \n",
       "559         559      Jiaocheng      CN  24.6774  116.1389     68.50        91   \n",
       "\n",
       "     Cloudiness  Wind Speed  Max Temp (F)     Hotel Name  \n",
       "0            96        7.00         48.99          Bluff  \n",
       "1             1        1.54         63.19      Busselton  \n",
       "2            40       12.66         84.20     Porto-Novo  \n",
       "3             0        4.61         73.40           Tete  \n",
       "4             1        5.75         30.20      Utqiagvik  \n",
       "..          ...         ...           ...            ...  \n",
       "555          84       20.78         71.47       Moranbah  \n",
       "556           2        3.00         62.01       Mercedes  \n",
       "557           0       11.50         64.99  Clarence Town  \n",
       "558          40        6.91         84.20      Boa Vista  \n",
       "559         100        2.06         68.50        Meizhou  \n",
       "\n",
       "[558 rows x 11 columns]"
      ],
      "text/html": "<div>\n<style scoped>\n    .dataframe tbody tr th:only-of-type {\n        vertical-align: middle;\n    }\n\n    .dataframe tbody tr th {\n        vertical-align: top;\n    }\n\n    .dataframe thead th {\n        text-align: right;\n    }\n</style>\n<table border=\"1\" class=\"dataframe\">\n  <thead>\n    <tr style=\"text-align: right;\">\n      <th></th>\n      <th>Unnamed: 0</th>\n      <th>City</th>\n      <th>Country</th>\n      <th>Lat</th>\n      <th>Lng</th>\n      <th>Temp (F)</th>\n      <th>Humidity</th>\n      <th>Cloudiness</th>\n      <th>Wind Speed</th>\n      <th>Max Temp (F)</th>\n      <th>Hotel Name</th>\n    </tr>\n  </thead>\n  <tbody>\n    <tr>\n      <th>0</th>\n      <td>0</td>\n      <td>Bluff</td>\n      <td>NZ</td>\n      <td>-46.6000</td>\n      <td>168.3333</td>\n      <td>48.99</td>\n      <td>78</td>\n      <td>96</td>\n      <td>7.00</td>\n      <td>48.99</td>\n      <td>Bluff</td>\n    </tr>\n    <tr>\n      <th>1</th>\n      <td>1</td>\n      <td>Busselton</td>\n      <td>AU</td>\n      <td>-33.6500</td>\n      <td>115.3333</td>\n      <td>63.19</td>\n      <td>82</td>\n      <td>1</td>\n      <td>1.54</td>\n      <td>63.19</td>\n      <td>Busselton</td>\n    </tr>\n    <tr>\n      <th>2</th>\n      <td>2</td>\n      <td>Porto-Novo</td>\n      <td>BJ</td>\n      <td>6.4965</td>\n      <td>2.6036</td>\n      <td>84.20</td>\n      <td>84</td>\n      <td>40</td>\n      <td>12.66</td>\n      <td>84.20</td>\n      <td>Porto-Novo</td>\n    </tr>\n    <tr>\n      <th>3</th>\n      <td>3</td>\n      <td>Tete</td>\n      <td>MZ</td>\n      <td>-16.1564</td>\n      <td>33.5867</td>\n      <td>73.20</td>\n      <td>78</td>\n      <td>0</td>\n      <td>4.61</td>\n      <td>73.40</td>\n      <td>Tete</td>\n    </tr>\n    <tr>\n      <th>4</th>\n      <td>4</td>\n      <td>Barrow</td>\n      <td>US</td>\n      <td>71.2906</td>\n      <td>-156.7887</td>\n      <td>30.20</td>\n      <td>80</td>\n      <td>1</td>\n      <td>5.75</td>\n      <td>30.20</td>\n      <td>Utqiagvik</td>\n    </tr>\n    <tr>\n      <th>...</th>\n      <td>...</td>\n      <td>...</td>\n      <td>...</td>\n      <td>...</td>\n      <td>...</td>\n      <td>...</td>\n      <td>...</td>\n      <td>...</td>\n      <td>...</td>\n      <td>...</td>\n      <td>...</td>\n    </tr>\n    <tr>\n      <th>555</th>\n      <td>555</td>\n      <td>Moranbah</td>\n      <td>AU</td>\n      <td>-22.0016</td>\n      <td>148.0466</td>\n      <td>71.47</td>\n      <td>66</td>\n      <td>84</td>\n      <td>20.78</td>\n      <td>71.47</td>\n      <td>Moranbah</td>\n    </tr>\n    <tr>\n      <th>556</th>\n      <td>556</td>\n      <td>Mercedes</td>\n      <td>AR</td>\n      <td>-34.6515</td>\n      <td>-59.4307</td>\n      <td>60.03</td>\n      <td>71</td>\n      <td>2</td>\n      <td>3.00</td>\n      <td>62.01</td>\n      <td>Mercedes</td>\n    </tr>\n    <tr>\n      <th>557</th>\n      <td>557</td>\n      <td>Clarence Town</td>\n      <td>AU</td>\n      <td>-32.5833</td>\n      <td>151.7833</td>\n      <td>63.54</td>\n      <td>63</td>\n      <td>0</td>\n      <td>11.50</td>\n      <td>64.99</td>\n      <td>Clarence Town</td>\n    </tr>\n    <tr>\n      <th>558</th>\n      <td>558</td>\n      <td>Boa Vista</td>\n      <td>BR</td>\n      <td>2.8197</td>\n      <td>-60.6733</td>\n      <td>84.20</td>\n      <td>61</td>\n      <td>40</td>\n      <td>6.91</td>\n      <td>84.20</td>\n      <td>Boa Vista</td>\n    </tr>\n    <tr>\n      <th>559</th>\n      <td>559</td>\n      <td>Jiaocheng</td>\n      <td>CN</td>\n      <td>24.6774</td>\n      <td>116.1389</td>\n      <td>68.50</td>\n      <td>91</td>\n      <td>100</td>\n      <td>2.06</td>\n      <td>68.50</td>\n      <td>Meizhou</td>\n    </tr>\n  </tbody>\n</table>\n<p>558 rows × 11 columns</p>\n</div>"
     },
     "metadata": {},
     "execution_count": 19
    }
   ],
   "source": [
    "#Check dataframe\n",
    "hotel_df"
   ]
  },
  {
   "cell_type": "code",
   "execution_count": 20,
   "metadata": {},
   "outputs": [],
   "source": [
    "# NOTE: Do not change any of the code in this cell\n",
    "\n",
    "# Using the template add the hotel marks to the heatmap\n",
    "info_box_template = \"\"\"\n",
    "<dl>\n",
    "<dt>Name</dt><dd>{Hotel Name}</dd>\n",
    "<dt>City</dt><dd>{City}</dd>\n",
    "<dt>Country</dt><dd>{Country}</dd>\n",
    "</dl>\n",
    "\"\"\"\n",
    "# Store the DataFrame Row\n",
    "# NOTE: be sure to update with your DataFrame name\n",
    "hotel_info = [info_box_template.format(**row) for index, row in hotel_df.iterrows()]\n",
    "locations = hotel_df[[\"Lat\", \"Lng\"]]"
   ]
  },
  {
   "cell_type": "code",
   "execution_count": 21,
   "metadata": {},
   "outputs": [
    {
     "output_type": "display_data",
     "data": {
      "text/plain": "Figure(layout=FigureLayout(height='420px'))",
      "application/vnd.jupyter.widget-view+json": {
       "version_major": 2,
       "version_minor": 0,
       "model_id": "ebdd7947d0804d8c92248e42849c54ce"
      }
     },
     "metadata": {}
    }
   ],
   "source": [
    "# Add marker layer ontop of heat map\n",
    "\n",
    "# using locations as found above\n",
    "markers = gmaps.marker_layer(locations)\n",
    "\n",
    "# adding the markers\n",
    "fig.add_layer(markers)\n",
    "\n",
    "# Display figure\n",
    "fig"
   ]
  },
  {
   "cell_type": "code",
   "execution_count": null,
   "metadata": {},
   "outputs": [],
   "source": []
  }
 ],
 "metadata": {
  "kernelspec": {
   "name": "python379jvsc74a57bd0bd230f86950030d0145785e8ad3e4440ba8f9dbe936dc92717eba51f4029bf4b",
   "display_name": "Python 3.7.9 64-bit ('PythonData': conda)"
  },
  "language_info": {
   "codemirror_mode": {
    "name": "ipython",
    "version": 3
   },
   "file_extension": ".py",
   "mimetype": "text/x-python",
   "name": "python",
   "nbconvert_exporter": "python",
   "pygments_lexer": "ipython3",
   "version": "3.7.9"
  },
  "latex_envs": {
   "LaTeX_envs_menu_present": true,
   "autoclose": false,
   "autocomplete": true,
   "bibliofile": "biblio.bib",
   "cite_by": "apalike",
   "current_citInitial": 1,
   "eqLabelWithNumbers": true,
   "eqNumInitial": 1,
   "hotkeys": {
    "equation": "Ctrl-E",
    "itemize": "Ctrl-I"
   },
   "labels_anchors": false,
   "latex_user_defs": false,
   "report_style_numbering": false,
   "user_envs_cfg": false
  }
 },
 "nbformat": 4,
 "nbformat_minor": 4
}